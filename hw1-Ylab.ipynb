{
 "cells": [
  {
   "cell_type": "code",
   "execution_count": 15,
   "metadata": {},
   "outputs": [
    {
     "name": "stdout",
     "output_type": "stream",
     "text": [
      "\n",
      "\n",
      "Последовательность: a -> b [3.605551275463989] -> d[7.728656901081649] -> e[11.334208176545639] -> c[14.496485836714019] -> a [19.49648583671402] = 19.49648583671402  \n"
     ]
    }
   ],
   "source": [
    "from itertools import *\n",
    "import math\n",
    "\n",
    "# подстановка значений в формулу\n",
    "def length_counter(a,b):\n",
    "    length = ((b[0]-a[0])**2 + (b[1]-a[1])**2) **0.5\n",
    "    return length\n",
    "\n",
    "def point_finder(x):\n",
    "    b = (2,5)\n",
    "    c = (5,2)\n",
    "    d = (6,6)\n",
    "    e = (8,3)\n",
    "    \n",
    "    if x == 'b':\n",
    "        point = b\n",
    "    elif x == 'c':\n",
    "        point = c\n",
    "    elif x == 'd':\n",
    "        point = d\n",
    "    elif x == 'e':\n",
    "        point = e\n",
    "        \n",
    "    return point\n",
    "\n",
    "def way_counter(massive):\n",
    "    a = (0,2)\n",
    "    points_massive = []\n",
    "    \n",
    "    for i in massive:\n",
    "        i = [point_finder(i)]\n",
    "        points_massive.extend(i)\n",
    "        \n",
    "    w1 = length_counter(a, points_massive[0])\n",
    "    w2 = length_counter(points_massive[0], points_massive[1])\n",
    "    w3 = length_counter(points_massive[1], points_massive[2])\n",
    "    w4 = length_counter(points_massive[2], points_massive[3])\n",
    "    w5 = length_counter(points_massive[3], a)\n",
    "    \n",
    " \n",
    "    \n",
    "    full_way = w1 + w2 + w3 + w4 + w5\n",
    "    \n",
    "    return full_way, w1, w2, w3, w4, w5, massive\n",
    "\n",
    "    \n",
    "massive = []\n",
    "way_values = []\n",
    "a = (0,2)\n",
    "\n",
    "for i in permutations('bcde'):\n",
    "    i = [i]\n",
    "    #print(i)\n",
    "    massive.extend(i)\n",
    "\n",
    "for i in massive:\n",
    "    way, w1, w2, w3, w4, w5, point_way = way_counter(i)    \n",
    "    #print(way)\n",
    "    way_values.append(way)\n",
    "\n",
    "min_way = min(way_values)\n",
    "answer_index = way_values.index(min_way)\n",
    "\n",
    "way, w1, w2, w3, w4, w5, point_way = way_counter(massive[answer_index])\n",
    "\n",
    "\n",
    "print()\n",
    "print()\n",
    "\n",
    "#print(f\"Последовательность: a -> {point_way[0]} -> {point_way[1]} -> {point_way[2]} -> {point_way[3]} -> a  \")\n",
    "#print(f\"Путь из a -> {point_way[0]} равен: {w1}\")\n",
    "#print(f\"Путь из {point_way[0]} -> {point_way[1]} равен: {w2}\")\n",
    "#print(f\"Путь из {point_way[1]} -> {point_way[2]} равен: {w3}\")\n",
    "#print(f\"Путь из {point_way[2]} -> {point_way[3]} равен: {w4}\")\n",
    "#print(f\"Путь из {point_way[3]} -> a равен: {w5}\")\n",
    "#print(f\"По итогу обход всех точек равен: {way}\")\n",
    "\n",
    "\n",
    "print(f\"Последовательность: a -> {point_way[0]} [{w1}] -> {point_way[1]}[{w2 + w1}] -> {point_way[2]}[{w3 + w2 + w1}] -> {point_way[3]}[{w4 + w3 + w2 + w1}] -> a [{w5 + w4 + w3 + w2 + w1}] = {way}  \")\n"
   ]
  },
  {
   "cell_type": "code",
   "execution_count": null,
   "metadata": {},
   "outputs": [],
   "source": []
  },
  {
   "cell_type": "code",
   "execution_count": null,
   "metadata": {},
   "outputs": [],
   "source": []
  }
 ],
 "metadata": {
  "kernelspec": {
   "display_name": "Python 3",
   "language": "python",
   "name": "python3"
  },
  "language_info": {
   "codemirror_mode": {
    "name": "ipython",
    "version": 3
   },
   "file_extension": ".py",
   "mimetype": "text/x-python",
   "name": "python",
   "nbconvert_exporter": "python",
   "pygments_lexer": "ipython3",
   "version": "3.7.4"
  }
 },
 "nbformat": 4,
 "nbformat_minor": 4
}
